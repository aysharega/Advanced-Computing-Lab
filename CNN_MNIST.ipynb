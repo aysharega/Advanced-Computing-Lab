{
  "nbformat": 4,
  "nbformat_minor": 0,
  "metadata": {
    "colab": {
      "name": "CNN_MNIST.ipynb",
      "provenance": [],
      "authorship_tag": "ABX9TyMYaegF+3W/dAmUTGWUyt4m",
      "include_colab_link": true
    },
    "kernelspec": {
      "name": "python3",
      "display_name": "Python 3"
    },
    "language_info": {
      "name": "python"
    }
  },
  "cells": [
    {
      "cell_type": "markdown",
      "metadata": {
        "id": "view-in-github",
        "colab_type": "text"
      },
      "source": [
        "<a href=\"https://colab.research.google.com/github/aysharega/Advanced-computing-Lab/blob/master/CNN_MNIST.ipynb\" target=\"_parent\"><img src=\"https://colab.research.google.com/assets/colab-badge.svg\" alt=\"Open In Colab\"/></a>"
      ]
    },
    {
      "cell_type": "markdown",
      "metadata": {
        "id": "tBQbXRELnlbf"
      },
      "source": [
        "CNN over MNIST dataset"
      ]
    },
    {
      "cell_type": "code",
      "metadata": {
        "id": "zaBGFhedMZf2",
        "colab": {
          "base_uri": "https://localhost:8080/",
          "height": 860
        },
        "outputId": "fb482457-b769-4dcb-f13d-b3ba92a721c1"
      },
      "source": [
        "#CNN on MNIST\n",
        "#1. Load and process MNIST\n",
        "from tensorflow import keras\n",
        "mnistDB = keras.datasets.mnist\n",
        "(Xtrain, Ytrain),(Xtest, Ytest)=mnistDB.load_data()\n",
        "print(\"X_train Size: \", Xtrain.shape)\n",
        "print(\"X_test Size: \", Xtest.shape)\n",
        "print(\"Y_train Size: \", Ytrain.shape)\n",
        "print(\"Y_test Size: \", Ytest.shape)\n",
        "\n",
        "import matplotlib.pyplot as plt\n",
        "plt.imshow(Xtrain[250], cmap='binary')\n",
        "\n",
        "#1b. Conversion to 1 channel\n",
        "Xtrain =Xtrain.reshape((60000,28,28,1))\n",
        "Xtest =Xtest.reshape((10000,28,28,1))\n",
        "print(\"New X_train Size: \", Xtrain.shape)\n",
        "print(\"New X_test Size: \", Xtest.shape)\n",
        "#1c. Normalize\n",
        "Xtrain =Xtrain.astype('float32')/255\n",
        "Xtest =Xtest.astype('float32')/255\n",
        "#2. Create CNN layers\n",
        "from keras.models import Sequential\n",
        "from keras.layers import Dense, Conv2D, Flatten\n",
        "cnn = keras.models.Sequential()\n",
        "cnn.add(keras.layers.Conv2D(32,(3,3), activation = \"relu\", input_shape=Xtrain.shape[1:]))\n",
        "cnn.add(keras.layers.Conv2D(64,(3,3),activation = \"relu\"))\n",
        "cnn.add(keras.layers.MaxPool2D(2,2))\n",
        "cnn.add(keras.layers.Dropout(0.25))\n",
        "cnn.add(keras.layers.Flatten())\n",
        "cnn.add(keras.layers.Dense(128, activation = \"relu\"))\n",
        "cnn.add(keras.layers.Dropout(0.25))\n",
        "cnn.add(keras.layers.Dense(10, activation = \"softmax\"))\n",
        "cnn.summary()\n",
        "#3. Compile and test\n",
        "cnn.compile(loss=\"sparse_categorical_crossentropy\", \n",
        "            optimizer=\"adam\", metrics=\"accuracy\")\n",
        "cnn.fit(Xtrain,Ytrain, epochs=2, batch_size=16)\n",
        "\n",
        "\n",
        "\n",
        "\n",
        "\n",
        "\n"
      ],
      "execution_count": 21,
      "outputs": [
        {
          "output_type": "stream",
          "name": "stdout",
          "text": [
            "X_train Size:  (60000, 28, 28)\n",
            "X_test Size:  (10000, 28, 28)\n",
            "Y_train Size:  (60000,)\n",
            "Y_test Size:  (10000,)\n",
            "New X_train Size:  (60000, 28, 28, 1)\n",
            "New X_test Size:  (10000, 28, 28, 1)\n",
            "Model: \"sequential_3\"\n",
            "_________________________________________________________________\n",
            "Layer (type)                 Output Shape              Param #   \n",
            "=================================================================\n",
            "conv2d_4 (Conv2D)            (None, 26, 26, 32)        320       \n",
            "_________________________________________________________________\n",
            "conv2d_5 (Conv2D)            (None, 24, 24, 64)        18496     \n",
            "_________________________________________________________________\n",
            "max_pooling2d (MaxPooling2D) (None, 12, 12, 64)        0         \n",
            "_________________________________________________________________\n",
            "dropout (Dropout)            (None, 12, 12, 64)        0         \n",
            "_________________________________________________________________\n",
            "flatten (Flatten)            (None, 9216)              0         \n",
            "_________________________________________________________________\n",
            "dense (Dense)                (None, 128)               1179776   \n",
            "_________________________________________________________________\n",
            "dropout_1 (Dropout)          (None, 128)               0         \n",
            "_________________________________________________________________\n",
            "dense_1 (Dense)              (None, 10)                1290      \n",
            "=================================================================\n",
            "Total params: 1,199,882\n",
            "Trainable params: 1,199,882\n",
            "Non-trainable params: 0\n",
            "_________________________________________________________________\n",
            "Epoch 1/2\n",
            "3750/3750 [==============================] - 187s 50ms/step - loss: 0.1315 - accuracy: 0.9601\n",
            "Epoch 2/2\n",
            "3750/3750 [==============================] - 183s 49ms/step - loss: 0.0535 - accuracy: 0.9835\n"
          ]
        },
        {
          "output_type": "execute_result",
          "data": {
            "text/plain": [
              "<keras.callbacks.History at 0x7fdf732e4510>"
            ]
          },
          "metadata": {},
          "execution_count": 21
        },
        {
          "output_type": "display_data",
          "data": {
            "image/png": "[encoded data removed]",
            "text/plain": [
              "<Figure size 432x288 with 1 Axes>"
            ]
          },
          "metadata": {
            "needs_background": "light"
          }
        }
      ]
    }
  ]
}