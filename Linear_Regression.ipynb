{
  "nbformat": 4,
  "nbformat_minor": 0,
  "metadata": {
    "colab": {
      "name": "Linear Regression.ipynb",
      "provenance": [],
      "authorship_tag": "ABX9TyPqhw4yPi426ti/bPnKPN7q",
      "include_colab_link": true
    },
    "kernelspec": {
      "name": "python3",
      "display_name": "Python 3"
    },
    "language_info": {
      "name": "python"
    }
  },
  "cells": [
    {
      "cell_type": "markdown",
      "metadata": {
        "id": "view-in-github",
        "colab_type": "text"
      },
      "source": [
        "<a href=\"https://colab.research.google.com/github/aysharega/Advanced-computing-Lab/blob/master/Linear_Regression.ipynb\" target=\"_parent\"><img src=\"https://colab.research.google.com/assets/colab-badge.svg\" alt=\"Open In Colab\"/></a>"
      ]
    },
    {
      "cell_type": "code",
      "execution_count": 27,
      "metadata": {
        "colab": {
          "base_uri": "https://localhost:8080/",
          "height": 523
        },
        "id": "xrBuL7D7PvBz",
        "outputId": "ab131ba8-37f6-4951-a194-96b56c6acc20"
      },
      "outputs": [
        {
          "output_type": "stream",
          "name": "stdout",
          "text": [
            "[[-0.1382643 ]\n",
            " [-0.46947439]\n",
            " [ 0.76743473]\n",
            " [-0.23413696]\n",
            " [-0.23415337]\n",
            " [ 0.54256004]\n",
            " [ 0.49671415]\n",
            " [ 1.52302986]\n",
            " [ 1.57921282]\n",
            " [ 0.64768854]]\n",
            "[ 7.86559561  2.94706451 25.24184526  3.12342556 14.82473244 14.16699293\n",
            " 21.17460263 47.44433378 41.57380152 13.71384966]\n",
            "The Output is [ 7.78744741  1.33628957 25.42823696  5.92008388  5.9197641  21.04823116\n",
            " 20.15526597 40.14537165 41.23967752 23.09587567]\n"
          ]
        },
        {
          "output_type": "display_data",
          "data": {
            "image/png": "[encoded data removed]",
            "text/plain": [
              "<Figure size 432x288 with 1 Axes>"
            ]
          },
          "metadata": {
            "needs_background": "light"
          }
        }
      ],
      "source": [
        "import numpy as np \n",
        "import pandas as pd\n",
        "import matplotlib.pyplot as plt\n",
        "\n",
        "#Create data\n",
        "from sklearn.datasets import make_regression \n",
        "data = make_regression(n_samples=10,n_features=1,n_targets=1,bias=15,noise=5,random_state=42) \n",
        "\n",
        "x = pd.DataFrame(data[0]).values\n",
        "y = pd.Series(data[1]).values\n",
        "print(x)\n",
        "print(y)\n",
        "\n",
        "#Build model\n",
        "from sklearn.linear_model import LinearRegression \n",
        "lin = LinearRegression()\n",
        "\n",
        "#fit Model\n",
        "lin.fit(x,y)\n",
        "\n",
        "#Predict\n",
        "y_pred = lin.predict(x)\n",
        "lin.predict([[10]])\n",
        "print ('The Output is',y_pred)\n",
        "#plot\n",
        "import matplotlib.pyplot as plt\n",
        "plt.scatter(x[:,0],x[:,0],cmap=\"rainbow\")\n",
        "plt.show()"
      ]
    },
    {
      "cell_type": "code",
      "source": [
        "\n",
        "#Create dataset\n",
        "from sklearn.datasets import load_wine\n",
        "wine = load_wine()\n",
        "x= wine.data\n",
        "y= wine.target\n",
        "print (x)\n",
        "print (y)\n",
        "#build model\n",
        "from sklearn.linear_model import LinearRegression \n",
        "ml = LinearRegression()\n",
        "\n",
        "#fit Model \n",
        "ml.fit(x,y)\n",
        "Result= ml.predict([[7.9,0.88,0.02,40,12,1.4,0.073,11,102,0.998,3.51,0.8,9.4]])\n",
        "print ( 'The output of Linear regression is' ,Result)\n",
        "\n"
      ],
      "metadata": {
        "colab": {
          "base_uri": "https://localhost:8080/"
        },
        "id": "JAuWT6GvQ100",
        "outputId": "bec217f0-b85a-465d-e3b7-fe925fbfa340"
      },
      "execution_count": 32,
      "outputs": [
        {
          "output_type": "stream",
          "name": "stdout",
          "text": [
            "[[1.423e+01 1.710e+00 2.430e+00 ... 1.040e+00 3.920e+00 1.065e+03]\n",
            " [1.320e+01 1.780e+00 2.140e+00 ... 1.050e+00 3.400e+00 1.050e+03]\n",
            " [1.316e+01 2.360e+00 2.670e+00 ... 1.030e+00 3.170e+00 1.185e+03]\n",
            " ...\n",
            " [1.327e+01 4.280e+00 2.260e+00 ... 5.900e-01 1.560e+00 8.350e+02]\n",
            " [1.317e+01 2.590e+00 2.370e+00 ... 6.000e-01 1.620e+00 8.400e+02]\n",
            " [1.413e+01 4.100e+00 2.740e+00 ... 6.100e-01 1.600e+00 5.600e+02]]\n",
            "[0 0 0 0 0 0 0 0 0 0 0 0 0 0 0 0 0 0 0 0 0 0 0 0 0 0 0 0 0 0 0 0 0 0 0 0 0\n",
            " 0 0 0 0 0 0 0 0 0 0 0 0 0 0 0 0 0 0 0 0 0 0 1 1 1 1 1 1 1 1 1 1 1 1 1 1 1\n",
            " 1 1 1 1 1 1 1 1 1 1 1 1 1 1 1 1 1 1 1 1 1 1 1 1 1 1 1 1 1 1 1 1 1 1 1 1 1\n",
            " 1 1 1 1 1 1 1 1 1 1 1 1 1 1 1 1 1 1 1 2 2 2 2 2 2 2 2 2 2 2 2 2 2 2 2 2 2\n",
            " 2 2 2 2 2 2 2 2 2 2 2 2 2 2 2 2 2 2 2 2 2 2 2 2 2 2 2 2 2 2]\n",
            "The output of Linear regression is [4.34083114]\n"
          ]
        }
      ]
    },
    {
      "cell_type": "code",
      "source": [
        ""
      ],
      "metadata": {
        "id": "eIJsIGddQvrx"
      },
      "execution_count": null,
      "outputs": []
    }
  ]
}