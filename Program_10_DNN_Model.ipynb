{
  "nbformat": 4,
  "nbformat_minor": 0,
  "metadata": {
    "colab": {
      "name": "Program 10: DNN Model.ipynb",
      "provenance": [],
      "authorship_tag": "ABX9TyNoaCZc9RAlDgUKnpthVbod",
      "include_colab_link": true
    },
    "kernelspec": {
      "name": "python3",
      "display_name": "Python 3"
    },
    "language_info": {
      "name": "python"
    }
  },
  "cells": [
    {
      "cell_type": "markdown",
      "metadata": {
        "id": "view-in-github",
        "colab_type": "text"
      },
      "source": [
        "<a href=\"https://colab.research.google.com/github/aysharega/Advanced-computing-Lab/blob/master/Program_10_DNN_Model.ipynb\" target=\"_parent\"><img src=\"https://colab.research.google.com/assets/colab-badge.svg\" alt=\"Open In Colab\"/></a>"
      ]
    },
    {
      "cell_type": "markdown",
      "metadata": {
        "id": "jrAkNWn-EyMm"
      },
      "source": [
        "#DNN Model for Iris dataset"
      ]
    },
    {
      "cell_type": "code",
      "metadata": {
        "id": "9wcIF8EjZdTG",
        "colab": {
          "base_uri": "https://localhost:8080/"
        },
        "outputId": "dc891e5d-9341-4558-be2d-809e8a6d4b32"
      },
      "source": [
        "#dataset\n",
        "from sklearn.datasets import load_iris\n",
        "bc = load_iris()\n",
        "x= bc.data\n",
        "y= bc.target\n",
        "from sklearn.model_selection import train_test_split\n",
        "x_train, x_test, y_train, y_test =train_test_split(x,y,train_size= 0.2,random_state=42)\n",
        "\n",
        "#DNN Model\n",
        "from tensorflow import keras\n",
        "DNN=keras.models.Sequential()\n",
        "\n",
        "#hidden layers\n",
        "DNN.add(keras.layers.Dense(units=12, activation ='relu', \n",
        "input_shape=x_train.shape[1:]))\n",
        "DNN.add(keras.layers.Dense(units=10, activation ='relu'))\n",
        "DNN.add(keras.layers.Dense(units=8, activation ='relu'))\n",
        "DNN.add(keras.layers.Dropout(0.25))\n",
        "\n",
        "DNN.add(keras.layers.Dense(units=6, activation ='relu'))\n",
        "DNN.add(keras.layers.Dense(units=3, activation ='sigmoid'))\n",
        "DNN.summary()\n",
        "\n",
        "#3. Compile and test\n",
        "DNN.compile(loss=\"sparse_categorical_crossentropy\", \n",
        "            optimizer=\"adam\", metrics=\"accuracy\")\n",
        "DNN.fit(x_train,y_train, epochs=2, batch_size=16)\n"
      ],
      "execution_count": null,
      "outputs": [
        {
          "output_type": "stream",
          "name": "stdout",
          "text": [
            "Model: \"sequential_12\"\n",
            "_________________________________________________________________\n",
            "Layer (type)                 Output Shape              Param #   \n",
            "=================================================================\n",
            "dense_62 (Dense)             (None, 12)                60        \n",
            "_________________________________________________________________\n",
            "dense_63 (Dense)             (None, 10)                130       \n",
            "_________________________________________________________________\n",
            "dense_64 (Dense)             (None, 8)                 88        \n",
            "_________________________________________________________________\n",
            "dropout_12 (Dropout)         (None, 8)                 0         \n",
            "_________________________________________________________________\n",
            "dense_65 (Dense)             (None, 6)                 54        \n",
            "_________________________________________________________________\n",
            "dense_66 (Dense)             (None, 3)                 21        \n",
            "=================================================================\n",
            "Total params: 353\n",
            "Trainable params: 353\n",
            "Non-trainable params: 0\n",
            "_________________________________________________________________\n",
            "Epoch 1/2\n",
            "2/2 [==============================] - 0s 5ms/step - loss: 1.2957 - accuracy: 0.2667\n",
            "Epoch 2/2\n",
            "2/2 [==============================] - 0s 4ms/step - loss: 1.1788 - accuracy: 0.2333\n"
          ]
        },
        {
          "output_type": "execute_result",
          "data": {
            "text/plain": [
              "<keras.callbacks.History at 0x7f17b4d5db10>"
            ]
          },
          "metadata": {},
          "execution_count": 37
        }
      ]
    },
    {
      "cell_type": "markdown",
      "metadata": {
        "id": "N0NZ30qgHxUm"
      },
      "source": [
        "#DNN Model for Wine *dataset*"
      ]
    },
    {
      "cell_type": "code",
      "metadata": {
        "colab": {
          "base_uri": "https://localhost:8080/"
        },
        "id": "kIcDgq8WljEJ",
        "outputId": "46ce1b82-a989-41d6-deba-cdeaed0ecbf7"
      },
      "source": [
        "#dataset\n",
        "from sklearn.datasets import load_wine\n",
        "wine = load_wine()\n",
        "x= wine.data\n",
        "y= wine.target\n",
        "from sklearn.model_selection import train_test_split\n",
        "x_train, x_test, y_train, y_test =train_test_split(x,y,train_size= 0.2,random_state=42)\n",
        "\n",
        "#DNN Model\n",
        "from tensorflow import keras\n",
        "DNN=keras.models.Sequential()\n",
        "\n",
        "#hidden layers\n",
        "DNN.add(keras.layers.Dense(units=12, activation ='relu', \n",
        "input_shape=x_train.shape[1:]))\n",
        "DNN.add(keras.layers.Dense(units=10, activation ='relu'))\n",
        "DNN.add(keras.layers.Dense(units=8, activation ='relu'))\n",
        "DNN.add(keras.layers.Dropout(0.25))\n",
        "\n",
        "DNN.add(keras.layers.Dense(units=6, activation ='relu'))\n",
        "DNN.add(keras.layers.Dense(units=3, activation ='sigmoid'))\n",
        "DNN.summary()\n",
        "\n",
        "#3. Compile and test\n",
        "DNN.compile(loss=\"sparse_categorical_crossentropy\", \n",
        "            optimizer=\"adam\", metrics=\"accuracy\")\n",
        "DNN.fit(x_train,y_train, epochs=2, batch_size=16)\n"
      ],
      "execution_count": null,
      "outputs": [
        {
          "output_type": "stream",
          "name": "stdout",
          "text": [
            "Model: \"sequential_3\"\n",
            "_________________________________________________________________\n",
            "Layer (type)                 Output Shape              Param #   \n",
            "=================================================================\n",
            "dense_15 (Dense)             (None, 12)                168       \n",
            "_________________________________________________________________\n",
            "dense_16 (Dense)             (None, 10)                130       \n",
            "_________________________________________________________________\n",
            "dense_17 (Dense)             (None, 8)                 88        \n",
            "_________________________________________________________________\n",
            "dropout_3 (Dropout)          (None, 8)                 0         \n",
            "_________________________________________________________________\n",
            "dense_18 (Dense)             (None, 6)                 54        \n",
            "_________________________________________________________________\n",
            "dense_19 (Dense)             (None, 3)                 21        \n",
            "=================================================================\n",
            "Total params: 461\n",
            "Trainable params: 461\n",
            "Non-trainable params: 0\n",
            "_________________________________________________________________\n",
            "Epoch 1/2\n",
            "3/3 [==============================] - 0s 4ms/step - loss: 102.8902 - accuracy: 0.4000\n",
            "Epoch 2/2\n",
            "3/3 [==============================] - 0s 2ms/step - loss: 80.1114 - accuracy: 0.4286\n"
          ]
        },
        {
          "output_type": "execute_result",
          "data": {
            "text/plain": [
              "<keras.callbacks.History at 0x7f17e6e27590>"
            ]
          },
          "metadata": {},
          "execution_count": 16
        }
      ]
    },
    {
      "cell_type": "code",
      "metadata": {
        "colab": {
          "base_uri": "https://localhost:8080/"
        },
        "id": "lqstf3PaICeD",
        "outputId": "46ce1b82-a989-41d6-deba-cdeaed0ecbf7"
      },
      "source": [
        "#dataset\n",
        "from sklearn.datasets import load_wine\n",
        "wine = load_wine()\n",
        "x= wine.data\n",
        "y= wine.target\n",
        "from sklearn.model_selection import train_test_split\n",
        "x_train, x_test, y_train, y_test =train_test_split(x,y,train_size= 0.2,random_state=42)\n",
        "\n",
        "#DNN Model\n",
        "from tensorflow import keras\n",
        "DNN=keras.models.Sequential()\n",
        "\n",
        "#hidden layers\n",
        "DNN.add(keras.layers.Dense(units=12, activation ='relu', \n",
        "input_shape=x_train.shape[1:]))\n",
        "DNN.add(keras.layers.Dense(units=10, activation ='relu'))\n",
        "DNN.add(keras.layers.Dense(units=8, activation ='relu'))\n",
        "DNN.add(keras.layers.Dropout(0.25))\n",
        "\n",
        "DNN.add(keras.layers.Dense(units=6, activation ='relu'))\n",
        "DNN.add(keras.layers.Dense(units=3, activation ='sigmoid'))\n",
        "DNN.summary()\n",
        "\n",
        "#3. Compile and test\n",
        "DNN.compile(loss=\"sparse_categorical_crossentropy\", \n",
        "            optimizer=\"adam\", metrics=\"accuracy\")\n",
        "DNN.fit(x_train,y_train, epochs=2, batch_size=16)\n"
      ],
      "execution_count": null,
      "outputs": [
        {
          "output_type": "stream",
          "name": "stdout",
          "text": [
            "Model: \"sequential_3\"\n",
            "_________________________________________________________________\n",
            "Layer (type)                 Output Shape              Param #   \n",
            "=================================================================\n",
            "dense_15 (Dense)             (None, 12)                168       \n",
            "_________________________________________________________________\n",
            "dense_16 (Dense)             (None, 10)                130       \n",
            "_________________________________________________________________\n",
            "dense_17 (Dense)             (None, 8)                 88        \n",
            "_________________________________________________________________\n",
            "dropout_3 (Dropout)          (None, 8)                 0         \n",
            "_________________________________________________________________\n",
            "dense_18 (Dense)             (None, 6)                 54        \n",
            "_________________________________________________________________\n",
            "dense_19 (Dense)             (None, 3)                 21        \n",
            "=================================================================\n",
            "Total params: 461\n",
            "Trainable params: 461\n",
            "Non-trainable params: 0\n",
            "_________________________________________________________________\n",
            "Epoch 1/2\n",
            "3/3 [==============================] - 0s 4ms/step - loss: 102.8902 - accuracy: 0.4000\n",
            "Epoch 2/2\n",
            "3/3 [==============================] - 0s 2ms/step - loss: 80.1114 - accuracy: 0.4286\n"
          ]
        },
        {
          "output_type": "execute_result",
          "data": {
            "text/plain": [
              "<keras.callbacks.History at 0x7f17e6e27590>"
            ]
          },
          "metadata": {},
          "execution_count": 16
        }
      ]
    },
    {
      "cell_type": "markdown",
      "metadata": {
        "id": "MqRwzQzMIDll"
      },
      "source": [
        "# DNN Model for Forest cover dataset\n",
        "\n",
        "---\n",
        "\n"
      ]
    },
    {
      "cell_type": "code",
      "metadata": {
        "colab": {
          "base_uri": "https://localhost:8080/"
        },
        "id": "GB5EVPQcIior",
        "outputId": "b1d51d14-440e-4792-e3ab-3f19f0b8a1e0"
      },
      "source": [
        "from sklearn.datasets import fetch_covtype\n",
        "x,y = fetch_covtype(return_X_y=True)\n",
        "x[:, 0:11]\n",
        "from sklearn.model_selection import train_test_split\n",
        "x_train, x_test, y_train, y_test =train_test_split(x,y,train_size= 0.2,random_state=42)\n",
        "\n",
        "#DNN Model\n",
        "from tensorflow import keras\n",
        "DNN=keras.models.Sequential()\n",
        "\n",
        "#hidden layers\n",
        "DNN.add(keras.layers.Dense(units=16, activation ='relu', \n",
        "input_shape=x_train.shape[1:]))\n",
        "DNN.add(keras.layers.Dense(units=14, activation ='relu'))\n",
        "DNN.add(keras.layers.Dense(units=12, activation ='relu'))\n",
        "DNN.add(keras.layers.Dense(units=10, activation ='relu'))\n",
        "DNN.add(keras.layers.Dense(units=8, activation ='relu'))\n",
        "DNN.add(keras.layers.Dropout(0.25))\n",
        "\n",
        "DNN.add(keras.layers.Dense(units=6, activation ='relu'))\n",
        "DNN.add(keras.layers.Dense(units=54, activation ='sigmoid'))\n",
        "DNN.summary()\n",
        "\n",
        "#3. Compile and test\n",
        "DNN.compile(loss=\"sparse_categorical_crossentropy\", \n",
        "            optimizer=\"adam\", metrics=\"accuracy\")\n",
        "DNN.fit(x_train,y_train, epochs=2, batch_size=24)"
      ],
      "execution_count": null,
      "outputs": [
        {
          "output_type": "stream",
          "name": "stdout",
          "text": [
            "Model: \"sequential_11\"\n",
            "_________________________________________________________________\n",
            "Layer (type)                 Output Shape              Param #   \n",
            "=================================================================\n",
            "dense_55 (Dense)             (None, 16)                880       \n",
            "_________________________________________________________________\n",
            "dense_56 (Dense)             (None, 14)                238       \n",
            "_________________________________________________________________\n",
            "dense_57 (Dense)             (None, 12)                180       \n",
            "_________________________________________________________________\n",
            "dense_58 (Dense)             (None, 10)                130       \n",
            "_________________________________________________________________\n",
            "dense_59 (Dense)             (None, 8)                 88        \n",
            "_________________________________________________________________\n",
            "dropout_11 (Dropout)         (None, 8)                 0         \n",
            "_________________________________________________________________\n",
            "dense_60 (Dense)             (None, 6)                 54        \n",
            "_________________________________________________________________\n",
            "dense_61 (Dense)             (None, 54)                378       \n",
            "=================================================================\n",
            "Total params: 1,948\n",
            "Trainable params: 1,948\n",
            "Non-trainable params: 0\n",
            "_________________________________________________________________\n",
            "Epoch 1/2\n",
            "4842/4842 [==============================] - 79s 1ms/step - loss: 1.2513 - accuracy: 0.5002\n",
            "Epoch 2/2\n",
            "4842/4842 [==============================] - 7s 1ms/step - loss: 0.8749 - accuracy: 0.6417\n"
          ]
        },
        {
          "output_type": "execute_result",
          "data": {
            "text/plain": [
              "<keras.callbacks.History at 0x7f177fee5410>"
            ]
          },
          "metadata": {},
          "execution_count": 36
        }
      ]
    }
  ]
}