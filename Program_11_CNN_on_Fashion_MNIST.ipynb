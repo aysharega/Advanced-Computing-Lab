{
  "nbformat": 4,
  "nbformat_minor": 0,
  "metadata": {
    "colab": {
      "name": "Program 11:CNN on Fashion_MNIST.ipynb",
      "provenance": [],
      "authorship_tag": "ABX9TyMJvjrQYUYMml1X4FwnmFHR",
      "include_colab_link": true
    },
    "kernelspec": {
      "name": "python3",
      "display_name": "Python 3"
    },
    "language_info": {
      "name": "python"
    }
  },
  "cells": [
    {
      "cell_type": "markdown",
      "metadata": {
        "id": "view-in-github",
        "colab_type": "text"
      },
      "source": [
        "<a href=\"https://colab.research.google.com/github/aysharega/Advanced-computing-Lab/blob/master/Program_11_CNN_on_Fashion_MNIST.ipynb\" target=\"_parent\"><img src=\"https://colab.research.google.com/assets/colab-badge.svg\" alt=\"Open In Colab\"/></a>"
      ]
    },
    {
      "cell_type": "markdown",
      "metadata": {
        "id": "OqjF8DETM8eW"
      },
      "source": [
        "#**CNN** on Fashion_MNIST Dataset\n",
        "\n",
        "\n"
      ]
    },
    {
      "cell_type": "code",
      "metadata": {
        "colab": {
          "base_uri": "https://localhost:8080/",
          "height": 1000
        },
        "id": "ZsBpVSo5MdWD",
        "outputId": "9ceba6f7-8e8e-4ace-a0df-a75920ffd08a"
      },
      "source": [
        "#CNN on Fashion_MNIST\n",
        "#Training dataset-60000, testing- 10000 28x28 grayscale images(10 classes)\n",
        "#1. Load and process Fashion_MNIST\n",
        "from tensorflow import keras\n",
        "fashion_mnistDB = keras.datasets.fashion_mnist\n",
        "(Xtrain, Ytrain),(Xtest, Ytest)=fashion_mnistDB.load_data()\n",
        "print(\"X_train Size: \", Xtrain.shape)\n",
        "print(\"X_test Size: \", Xtest.shape)\n",
        "print(\"Y_train Size: \", Ytrain.shape)\n",
        "print(\"Y_test Size: \", Ytest.shape)\n",
        "\n",
        "import matplotlib.pyplot as plt\n",
        "plt.imshow(Xtrain[250], cmap='binary')\n",
        "plt.imshow(Xtrain[200], cmap='binary')\n",
        "#1b. Conversion to 1 channel\n",
        "Xtrain =Xtrain.reshape((60000,28,28,1))\n",
        "Xtest =Xtest.reshape((10000,28,28,1))\n",
        "print(\"New X_train Size: \", Xtrain.shape)\n",
        "print(\"New X_test Size: \", Xtest.shape)\n",
        "#1c. Normalize\n",
        "Xtrain =Xtrain.astype('float32')/255\n",
        "Xtest =Xtest.astype('float32')/255\n",
        "#2. Create CNN layers\n",
        "from keras.models import Sequential\n",
        "from keras.layers import Dense, Conv2D, Flatten\n",
        "cnn = keras.models.Sequential()\n",
        "cnn.add(keras.layers.Conv2D(32,(3,3), activation = \"relu\", input_shape=Xtrain.shape[1:]))\n",
        "cnn.add(keras.layers.Conv2D(64,(3,3),activation = \"relu\"))\n",
        "cnn.add(keras.layers.MaxPool2D(2,2))\n",
        "cnn.add(keras.layers.Dropout(0.25))\n",
        "cnn.add(keras.layers.Flatten())\n",
        "cnn.add(keras.layers.Dense(128, activation = \"relu\"))\n",
        "cnn.add(keras.layers.Dropout(0.25))\n",
        "cnn.add(keras.layers.Dense(10, activation = \"softmax\"))\n",
        "cnn.summary()\n",
        "#3. Compile and test\n",
        "cnn.compile(loss=\"sparse_categorical_crossentropy\", \n",
        "            optimizer=\"adam\", metrics=\"accuracy\")\n",
        "\n",
        "\n",
        "es=keras.callbacks.EarlyStopping(monitor='loss',patience=10,restore_best_weights=True)\n",
        "cp=keras.callbacks.ModelCheckpoint( \"/content/CNN_MNIST.h5\",monitor='val_loss')\n",
        "cnn.fit(Xtrain,Ytrain, epochs=2, batch_size=16,callbacks=[es,cp])\n",
        "test_loss, test_accuracy = cnn.evaluate (Xtest, Ytest)\n",
        "print (\"Test_Loss=\", test_loss)\n",
        "print (\"Test_Accuracy=\", test_accuracy)\n",
        "plt.show()\n"
      ],
      "execution_count": null,
      "outputs": [
        {
          "output_type": "stream",
          "name": "stdout",
          "text": [
            "Downloading data from https://storage.googleapis.com/tensorflow/tf-keras-datasets/train-labels-idx1-ubyte.gz\n",
            "32768/29515 [=================================] - 0s 0us/step\n",
            "40960/29515 [=========================================] - 0s 0us/step\n",
            "Downloading data from https://storage.googleapis.com/tensorflow/tf-keras-datasets/train-images-idx3-ubyte.gz\n",
            "26427392/26421880 [==============================] - 0s 0us/step\n",
            "26435584/26421880 [==============================] - 0s 0us/step\n",
            "Downloading data from https://storage.googleapis.com/tensorflow/tf-keras-datasets/t10k-labels-idx1-ubyte.gz\n",
            "16384/5148 [===============================================================================================] - 0s 0us/step\n",
            "Downloading data from https://storage.googleapis.com/tensorflow/tf-keras-datasets/t10k-images-idx3-ubyte.gz\n",
            "4423680/4422102 [==============================] - 0s 0us/step\n",
            "4431872/4422102 [==============================] - 0s 0us/step\n",
            "X_train Size:  (60000, 28, 28)\n",
            "X_test Size:  (10000, 28, 28)\n",
            "Y_train Size:  (60000,)\n",
            "Y_test Size:  (10000,)\n",
            "New X_train Size:  (60000, 28, 28, 1)\n",
            "New X_test Size:  (10000, 28, 28, 1)\n",
            "Model: \"sequential\"\n",
            "_________________________________________________________________\n",
            "Layer (type)                 Output Shape              Param #   \n",
            "=================================================================\n",
            "conv2d (Conv2D)              (None, 26, 26, 32)        320       \n",
            "_________________________________________________________________\n",
            "conv2d_1 (Conv2D)            (None, 24, 24, 64)        18496     \n",
            "_________________________________________________________________\n",
            "max_pooling2d (MaxPooling2D) (None, 12, 12, 64)        0         \n",
            "_________________________________________________________________\n",
            "dropout (Dropout)            (None, 12, 12, 64)        0         \n",
            "_________________________________________________________________\n",
            "flatten (Flatten)            (None, 9216)              0         \n",
            "_________________________________________________________________\n",
            "dense (Dense)                (None, 128)               1179776   \n",
            "_________________________________________________________________\n",
            "dropout_1 (Dropout)          (None, 128)               0         \n",
            "_________________________________________________________________\n",
            "dense_1 (Dense)              (None, 10)                1290      \n",
            "=================================================================\n",
            "Total params: 1,199,882\n",
            "Trainable params: 1,199,882\n",
            "Non-trainable params: 0\n",
            "_________________________________________________________________\n",
            "Epoch 1/2\n",
            "3750/3750 [==============================] - 199s 53ms/step - loss: 0.4003 - accuracy: 0.8557\n",
            "Epoch 2/2\n",
            "3750/3750 [==============================] - 197s 52ms/step - loss: 0.2627 - accuracy: 0.9030\n",
            "313/313 [==============================] - 7s 21ms/step - loss: 0.2460 - accuracy: 0.9100\n",
            "Test_Loss= 0.24595783650875092\n",
            "Test_Accuracy= 0.9100000262260437\n"
          ]
        },
        {
          "output_type": "display_data",
          "data": {
            "image/png": "[encoded data removed]",
            "text/plain": [
              "<Figure size 432x288 with 1 Axes>"
            ]
          },
          "metadata": {
            "needs_background": "light"
          }
        }
      ]
    }
  ]
}