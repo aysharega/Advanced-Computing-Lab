{
  "nbformat": 4,
  "nbformat_minor": 0,
  "metadata": {
    "colab": {
      "name": "Program 12: LSTM for MNIST dataset.ipynb",
      "provenance": [],
      "authorship_tag": "ABX9TyPx4gsaox+ZerECflO3926X",
      "include_colab_link": true
    },
    "kernelspec": {
      "name": "python3",
      "display_name": "Python 3"
    },
    "language_info": {
      "name": "python"
    }
  },
  "cells": [
    {
      "cell_type": "markdown",
      "metadata": {
        "id": "view-in-github",
        "colab_type": "text"
      },
      "source": [
        "<a href=\"https://colab.research.google.com/github/aysharega/Advanced-computing-Lab/blob/master/Program_12_LSTM_for_MNIST_dataset.ipynb\" target=\"_parent\"><img src=\"https://colab.research.google.com/assets/colab-badge.svg\" alt=\"Open In Colab\"/></a>"
      ]
    },
    {
      "cell_type": "code",
      "metadata": {
        "colab": {
          "base_uri": "https://localhost:8080/"
        },
        "id": "t91OQgj0AhPg",
        "outputId": "689eb8e0-ed7b-4c0b-dade-1816f6428efe"
      },
      "source": [
        "import tensorflow as tf\n",
        "from tensorflow.keras.models import Sequential\n",
        "from tensorflow.keras.layers import Dense, Dropout, LSTM\n",
        "mnist = tf.keras.datasets.mnist \n",
        "# mnist is a dataset of 28x28 images of handwritten digits and their labels\n",
        "(x_train, y_train),(x_test, y_test) = mnist.load_data() \n",
        "#unpacks images to x_train/x_test and labels to y_train/y_test\n",
        "x_train = x_train/255.0\n",
        "x_test = x_test/255.0\n",
        "print(x_train.shape)\n",
        "print(x_train[0].shape)\n",
        "model = Sequential()\n",
        "model.add(LSTM(128, input_shape=(x_train.shape[1:]), activation='relu',\n",
        "return_sequences=True))\n",
        "model.add(Dropout(0.2))\n",
        "model.add(LSTM(128, activation='relu'))\n",
        "model.add(Dropout(0.1))\n",
        "model.add(Dense(32, activation='relu'))\n",
        "model.add(Dropout(0.2))\n",
        "model.add(Dense(10, activation='softmax'))\n",
        "opt = tf.keras.optimizers.Adam(lr=0.001, decay=1e-6)\n",
        "model.compile(\n",
        "loss='sparse_categorical_crossentropy',optimizer=opt,\n",
        "metrics=['accuracy'],)\n",
        "model.fit(x_train,\n",
        "y_train,\n",
        "epochs=3,\n",
        "validation_data=(x_test, y_test))\n",
        "testloss,testaccuracy=model.evaluate(x_test,y_test)\n",
        "print(\"Test loss observed on MNIST dataset = \",testloss)\n",
        "print(\"Test accuracy observed on MNIST dataset = \",testaccuracy)\n"
      ],
      "execution_count": 4,
      "outputs": [
        {
          "output_type": "stream",
          "name": "stdout",
          "text": [
            "Downloading data from https://storage.googleapis.com/tensorflow/tf-keras-datasets/mnist.npz\n",
            "11493376/11490434 [==============================] - 0s 0us/step\n",
            "11501568/11490434 [==============================] - 0s 0us/step\n",
            "(60000, 28, 28)\n",
            "(28, 28)\n"
          ]
        },
        {
          "output_type": "stream",
          "name": "stderr",
          "text": [
            "/usr/local/lib/python3.7/dist-packages/keras/optimizer_v2/optimizer_v2.py:356: UserWarning: The `lr` argument is deprecated, use `learning_rate` instead.\n",
            "  \"The `lr` argument is deprecated, use `learning_rate` instead.\")\n"
          ]
        },
        {
          "output_type": "stream",
          "name": "stdout",
          "text": [
            "Epoch 1/3\n",
            "1875/1875 [==============================] - 120s 63ms/step - loss: 0.6233 - accuracy: 0.7993 - val_loss: 0.1552 - val_accuracy: 0.9524\n",
            "Epoch 2/3\n",
            "1875/1875 [==============================] - 118s 63ms/step - loss: 0.1534 - accuracy: 0.9590 - val_loss: 0.0822 - val_accuracy: 0.9775\n",
            "Epoch 3/3\n",
            "1875/1875 [==============================] - 118s 63ms/step - loss: 0.1075 - accuracy: 0.9720 - val_loss: 0.0749 - val_accuracy: 0.9802\n",
            "313/313 [==============================] - 6s 19ms/step - loss: 0.0749 - accuracy: 0.9802\n",
            "Test loss observed on MNIST dataset =  0.07493625581264496\n",
            "Test accuracy observed on MNIST dataset =  0.9801999926567078\n"
          ]
        }
      ]
    },
    {
      "cell_type": "markdown",
      "metadata": {
        "id": "OT6nPVgjDGsF"
      },
      "source": [
        ""
      ]
    }
  ]
}