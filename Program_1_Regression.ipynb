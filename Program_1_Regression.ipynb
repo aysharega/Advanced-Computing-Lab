{
  "nbformat": 4,
  "nbformat_minor": 0,
  "metadata": {
    "colab": {
      "name": "Program 1: Regression.ipynb",
      "provenance": [],
      "authorship_tag": "ABX9TyPrQoM6bcQ6RWmWHyYg+jLS",
      "include_colab_link": true
    },
    "kernelspec": {
      "name": "python3",
      "display_name": "Python 3"
    },
    "language_info": {
      "name": "python"
    }
  },
  "cells": [
    {
      "cell_type": "markdown",
      "metadata": {
        "id": "view-in-github",
        "colab_type": "text"
      },
      "source": [
        "<a href=\"https://colab.research.google.com/github/aysharega/Advanced-computing-Lab/blob/master/Program_1_Regression.ipynb\" target=\"_parent\"><img src=\"https://colab.research.google.com/assets/colab-badge.svg\" alt=\"Open In Colab\"/></a>"
      ]
    },
    {
      "cell_type": "markdown",
      "metadata": {
        "id": "XU_FwQya0ttW"
      },
      "source": [
        "#LINEAR REGRESSION (UNIVARIATE) ON SKLEARN-MAKE REGRESSION DATASET"
      ]
    },
    {
      "cell_type": "code",
      "metadata": {
        "colab": {
          "base_uri": "https://localhost:8080/"
        },
        "id": "WDbfGllZ0ct3",
        "outputId": "0b51f2aa-1334-415d-e3ee-1913eb4887f2"
      },
      "source": [
        "import numpy as np\n",
        "import pandas as pd\n",
        "import matplotlib.pyplot as plt\n",
        "#Create data\n",
        "from sklearn.datasets import make_regression\n",
        "data = make_regression(n_samples=10,n_features=1,\n",
        "n_targets=1,bias=15,noise=5,random_state=42)\n",
        "x = pd.DataFrame(data[0]).values\n",
        "y = pd.Series(data[1]).values\n",
        "#Build model\n",
        "from sklearn.linear_model import LinearRegression\n",
        "lin = LinearRegression()\n",
        "#fit Model\n",
        "lin.fit(x,y)\n",
        "#Predict\n",
        "y_pred = lin.predict(x)\n",
        "lin.predict([[25]])\n"
      ],
      "execution_count": null,
      "outputs": [
        {
          "output_type": "execute_result",
          "data": {
            "text/plain": [
              "array([497.41900852])"
            ]
          },
          "metadata": {},
          "execution_count": 1
        }
      ]
    },
    {
      "cell_type": "markdown",
      "metadata": {
        "id": "qvc-TCfe2i3y"
      },
      "source": [
        "#LINEAR REGRESSION (MULTIVARIATE) ON SKLEARN-MAKE REGRESSION DATASET"
      ]
    },
    {
      "cell_type": "code",
      "metadata": {
        "colab": {
          "base_uri": "https://localhost:8080/"
        },
        "id": "6jLjJ1ax2H_Y",
        "outputId": "cbd2127c-4d63-4b8e-863b-b3c8bb062bb5"
      },
      "source": [
        "import numpy as np\n",
        "import pandas as pd\n",
        "import matplotlib.pyplot as plt\n",
        "#Create dataset\n",
        "from sklearn.datasets import make_regression\n",
        "data = make_regression(n_samples=100,n_features = 5,\n",
        "random_state = 42,bias=15,noise=5,n_targets=1)\n",
        "x = pd.DataFrame(data[0])\n",
        "y = pd.Series(data[1])\n",
        "#build model\n",
        "from sklearn.linear_model import LinearRegression\n",
        "ml = LinearRegression()\n",
        "#fit Model\n",
        "ml.fit(x,y)\n",
        "#predict\n",
        "ml.predict([[2.5,3,4,5,12]])\n"
      ],
      "execution_count": 4,
      "outputs": [
        {
          "output_type": "execute_result",
          "data": {
            "text/plain": [
              "array([1423.51730521])"
            ]
          },
          "metadata": {},
          "execution_count": 4
        }
      ]
    },
    {
      "cell_type": "markdown",
      "metadata": {
        "id": "zVJ08i-9235v"
      },
      "source": [
        "#POLYNOMIAL REGRESSION ON SKLEARN-MAKE REGRESSION DATASET\n"
      ]
    },
    {
      "cell_type": "code",
      "metadata": {
        "colab": {
          "base_uri": "https://localhost:8080/"
        },
        "id": "gUIxHWfX2fAF",
        "outputId": "cd0217ea-7166-4ed0-a6bf-105e73b1ba66"
      },
      "source": [
        "import numpy as np\n",
        "import pandas as pd\n",
        "import matplotlib.pyplot as plt\n",
        "#Create dataset\n",
        "from sklearn.datasets import make_regression\n",
        "data = make_regression(n_samples=20,n_features = 3,bias=15,\n",
        "noise=25,n_targets=1,random_state=42)\n",
        "x=pd.DataFrame(data[0]).values\n",
        "y = pd.Series(data[1]).values\n",
        "#Preprocess to add polynomial features\n",
        "from sklearn.preprocessing import PolynomialFeatures\n",
        "poly = PolynomialFeatures(degree=4)\n",
        "x_new = poly.fit_transform(x)\n",
        "#Build model\n",
        "from sklearn.linear_model import LinearRegression\n",
        "lin = LinearRegression()\n",
        "lin.fit(x_new,y)\n",
        "#Predict\n",
        "lin.predict(x_new)\n",
        "y_value = poly.fit_transform([[0.5,25,150]])\n",
        "lin.predict(y_value)"
      ],
      "execution_count": 6,
      "outputs": [
        {
          "output_type": "execute_result",
          "data": {
            "text/plain": [
              "array([3.91450117e+09])"
            ]
          },
          "metadata": {},
          "execution_count": 6
        }
      ]
    },
    {
      "cell_type": "markdown",
      "metadata": {
        "id": "xiROEwvK3EML"
      },
      "source": [
        "# LASSO REGRESSION ON SKLEARN-MAKE REGRESSION DATASET\n"
      ]
    },
    {
      "cell_type": "code",
      "metadata": {
        "id": "Ryr0eKWC28ga"
      },
      "source": [
        "import numpy as np\n",
        "import pandas as pd\n",
        "import matplotlib.pyplot as plt\n",
        "#Create data\n",
        "from sklearn.datasets import make_regression\n",
        "data = make_regression(n_samples=10,n_features=4,\n",
        "n_targets=1,bias=10,noise=2,random_state=42)\n",
        "x = pd.DataFrame(data[0]).values\n",
        "y = pd.Series(data[1]).values\n",
        "#Build model\n",
        "from sklearn.linear_model import Lasso\n",
        "lasso = Lasso(alpha=5)\n",
        "#Fit model\n",
        "lasso.fit(x,y)\n",
        "#Predict\n",
        "y_las_pred = lasso.predict(x)\n",
        "lasso.predict([[35,1,2,4]])"
      ],
      "execution_count": null,
      "outputs": []
    },
    {
      "cell_type": "markdown",
      "metadata": {
        "id": "to5cp6UL3TOX"
      },
      "source": [
        "# RIDGE REGRESSION ON SKLEARN-MAKE REGRESSION DATASET\n"
      ]
    },
    {
      "cell_type": "code",
      "metadata": {
        "colab": {
          "base_uri": "https://localhost:8080/"
        },
        "id": "Ho54at_p3Dkc",
        "outputId": "9c125710-42eb-4235-f26c-1a51befd1e6b"
      },
      "source": [
        "import numpy as np\n",
        "import pandas as pd\n",
        "import matplotlib.pyplot as plt\n",
        "#Create data\n",
        "from sklearn.datasets import make_regression\n",
        "data = make_regression(n_samples=10,n_features=3,\n",
        "n_targets=1,bias=10,noise=10,random_state=42)\n",
        "x = pd.DataFrame(data[0]).values\n",
        "y = pd.Series(data[1]).values\n",
        "#Build model\n",
        "from sklearn.linear_model import Ridge\n",
        "ridge = Ridge(alpha=5)\n",
        "#Fit model\n",
        "ridge.fit(x,y)\n",
        "#Predict\n",
        "y_pred = ridge.predict(x)\n",
        "ridge.predict([[75,85,9]])"
      ],
      "execution_count": 7,
      "outputs": [
        {
          "output_type": "execute_result",
          "data": {
            "text/plain": [
              "array([5491.95224209])"
            ]
          },
          "metadata": {},
          "execution_count": 7
        }
      ]
    }
  ]
}