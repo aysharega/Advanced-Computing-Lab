{
  "nbformat": 4,
  "nbformat_minor": 0,
  "metadata": {
    "colab": {
      "name": "Program 2: SVM.ipynb",
      "provenance": [],
      "collapsed_sections": [],
      "authorship_tag": "ABX9TyM4CiwCaLCP2RGBiRRQdVsx",
      "include_colab_link": true
    },
    "kernelspec": {
      "name": "python3",
      "display_name": "Python 3"
    },
    "language_info": {
      "name": "python"
    }
  },
  "cells": [
    {
      "cell_type": "markdown",
      "metadata": {
        "id": "view-in-github",
        "colab_type": "text"
      },
      "source": [
        "<a href=\"https://colab.research.google.com/github/aysharega/Advanced-computing-Lab/blob/master/Program_2_SVM.ipynb\" target=\"_parent\"><img src=\"https://colab.research.google.com/assets/colab-badge.svg\" alt=\"Open In Colab\"/></a>"
      ]
    },
    {
      "cell_type": "markdown",
      "metadata": {
        "id": "AsWtL77DqZ-d"
      },
      "source": [
        "#**SVM on Load_iris**"
      ]
    },
    {
      "cell_type": "code",
      "metadata": {
        "colab": {
          "base_uri": "https://localhost:8080/"
        },
        "id": "8MQXPh5fhxo-",
        "outputId": "db04b31f-3376-45a6-baa1-d3b1fe62d955"
      },
      "source": [
        "#1.Training\n",
        "#Load data\n",
        "import pandas as pd\n",
        "iris = pd.read_csv(\"/content/irisexcel.csv\")\n",
        "x=iris[['sepal_length','sepal_width','petal_length','petal_width']]\n",
        "y=iris['species']\n",
        "\n",
        "#algo\n",
        "from sklearn.svm import SVC\n",
        "Model=SVC()\n",
        "\n",
        "#fit data\n",
        "ML= Model.fit(x,y)\n",
        "\n",
        "#2.Testing\n",
        "Trial2=ML.predict([[2.5, 3.8, 4.6, 5.2]])\n",
        "print (Trial2)\n",
        "\n"
      ],
      "execution_count": null,
      "outputs": [
        {
          "output_type": "stream",
          "text": [
            "['virginica']\n"
          ],
          "name": "stdout"
        }
      ]
    },
    {
      "cell_type": "markdown",
      "metadata": {
        "id": "rYv5sgyup4vW"
      },
      "source": [
        "# SVM on heart.csv"
      ]
    },
    {
      "cell_type": "code",
      "metadata": {
        "colab": {
          "base_uri": "https://localhost:8080/"
        },
        "id": "Y4wj3efHiJKV",
        "outputId": "889ba751-78d8-4136-a0da-c1e7d7c4be1d"
      },
      "source": [
        "\n",
        "import pandas as pd\n",
        "iris = pd.read_csv(\"/content/heart.csv\")\n",
        "x=iris[['trestbps','chol','thalach','oldpeak']]\n",
        "y=iris['target']\n",
        "\n",
        "from sklearn.svm import SVC\n",
        "Model=SVC()\n",
        "\n",
        "from sklearn.naive_bayes import GaussianNB\n",
        "Model2= GaussianNB() \n",
        "\n",
        "ML=Model.fit(x,y)\n",
        "ML2=Model.fit(x,y)\n",
        "\n",
        "Result1 =ML.predict([[130, 240, 120, 3.7]])\n",
        "print(\"Result by doing SVM is {}\".format(Result1))\n",
        "Result2 =ML2.predict([[130, 240, 120, 3.7]])\n",
        "print(\"Result by doing Naïve Bayes(NB) is {}\".format(Result2))\n"
      ],
      "execution_count": null,
      "outputs": [
        {
          "output_type": "stream",
          "text": [
            "Result by doing SVM is [0]\n",
            "Result by doing Naïve Bayes(NB) is [0]\n"
          ],
          "name": "stdout"
        }
      ]
    },
    {
      "cell_type": "markdown",
      "metadata": {
        "id": "gCwMWIX5vTcb"
      },
      "source": [
        "# T Accuracy of Heart.csv\n",
        "\n",
        "\n",
        "\n"
      ]
    },
    {
      "cell_type": "code",
      "metadata": {
        "colab": {
          "base_uri": "https://localhost:8080/"
        },
        "id": "2hIw7mbxvqNb",
        "outputId": "c18d44d3-3135-436f-bd14-d622f2dc43d8"
      },
      "source": [
        "import pandas as pd\n",
        "iris = pd.read_csv(\"/content/heart.csv\")\n",
        "x=iris[['trestbps','chol','thalach','oldpeak']]\n",
        "y=iris['target']\n",
        "\n",
        "#cross validation(split)\n",
        "from sklearn.model_selection import train_test_split\n",
        "x_train, x_test, y_train, y_test=train_test_split(x,y,train_size=0.7,random_state=42)\n",
        "                                             \n",
        "from sklearn.svm import SVC\n",
        "Model=SVC()\n",
        "\n",
        "ML = Model.fit(x_train, y_train)\n",
        "\n",
        "Result =ML.predict(x_test)\n",
        "from sklearn.metrics import accuracy_score\n",
        "score=accuracy_score(Result, y_test)\n",
        "print(\"Accuracy by doing SVM=\",score*100)\n"
      ],
      "execution_count": null,
      "outputs": [
        {
          "output_type": "stream",
          "text": [
            "Accuracy by doing SVM= 70.32967032967034\n"
          ],
          "name": "stdout"
        }
      ]
    },
    {
      "cell_type": "markdown",
      "metadata": {
        "id": "GFlFDo3LSRjF"
      },
      "source": [
        "#**SVM on load_Wine**\n",
        "\n",
        "\n"
      ]
    },
    {
      "cell_type": "code",
      "metadata": {
        "colab": {
          "base_uri": "https://localhost:8080/"
        },
        "id": "1qefyk8wRZ0I",
        "outputId": "7d6ded21-4550-46fd-b162-3f9a4d0935aa"
      },
      "source": [
        "#Load data\n",
        "import pandas as pd\n",
        "iris = pd.read_csv(\"/content/winequality_red.csv\")\n",
        "x=iris[['fixed acidity','residual sugar','free sulfur dioxide','density','pH','alcohol']]\n",
        "y=iris['quality']\n",
        "#algo\n",
        "from sklearn.svm import SVC\n",
        "Model=SVC()\n",
        "\n",
        "#fit data\n",
        "ML= Model.fit(x,y)\n",
        "\n",
        "#2.Testing\n",
        "Result= ML.predict([[7.9,1.4,11,0.998,3.51,9.4]])\n",
        "print (Result)\n"
      ],
      "execution_count": 2,
      "outputs": [
        {
          "output_type": "stream",
          "name": "stdout",
          "text": [
            "[5]\n"
          ]
        }
      ]
    }
  ]
}