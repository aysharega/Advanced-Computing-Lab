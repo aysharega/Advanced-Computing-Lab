{
  "nbformat": 4,
  "nbformat_minor": 0,
  "metadata": {
    "colab": {
      "name": "SVM wine data.ipynb",
      "provenance": [],
      "authorship_tag": "ABX9TyN8hFQbc0rQljhHScEfjcX0",
      "include_colab_link": true
    },
    "kernelspec": {
      "name": "python3",
      "display_name": "Python 3"
    },
    "language_info": {
      "name": "python"
    }
  },
  "cells": [
    {
      "cell_type": "markdown",
      "metadata": {
        "id": "view-in-github",
        "colab_type": "text"
      },
      "source": [
        "<a href=\"https://colab.research.google.com/github/aysharega/Advanced-computing-Lab/blob/master/SVM_wine_data.ipynb\" target=\"_parent\"><img src=\"https://colab.research.google.com/assets/colab-badge.svg\" alt=\"Open In Colab\"/></a>"
      ]
    },
    {
      "cell_type": "code",
      "metadata": {
        "colab": {
          "base_uri": "https://localhost:8080/"
        },
        "id": "R6iCx4hidYES",
        "outputId": "13ed9c80-aa30-4df0-dac3-8aba73558f12"
      },
      "source": [
        "import pandas as pd\n",
        "import pandas as pd\n",
        "iris = pd.read_csv(\"/content/winequality_red.csv\")\n",
        "x=iris[['fixed acidity','residual sugar','free sulfur dioxide','density','pH','alcohol']]\n",
        "y=iris['quality']\n",
        "\n",
        "#algo\n",
        "from sklearn.svm import SVC\n",
        "Model=SVC()\n",
        "\n",
        "#fit data\n",
        "ML= Model.fit(x,y)\n",
        "\n",
        "#2.Testing\n",
        "Result= ML.predict([[7.9,1.4,11,0.998,3.51,9.4]])\n",
        "print (Result)\n",
        "\n"
      ],
      "execution_count": 21,
      "outputs": [
        {
          "output_type": "stream",
          "text": [
            "[5]\n"
          ],
          "name": "stdout"
        }
      ]
    }
  ]
}