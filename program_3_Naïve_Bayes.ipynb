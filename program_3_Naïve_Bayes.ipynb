{
  "nbformat": 4,
  "nbformat_minor": 0,
  "metadata": {
    "colab": {
      "name": " program 3:Naïve Bayes.ipynb",
      "provenance": [],
      "authorship_tag": "ABX9TyMe32VTYhB8ESTm7t07lkjt",
      "include_colab_link": true
    },
    "kernelspec": {
      "name": "python3",
      "display_name": "Python 3"
    },
    "language_info": {
      "name": "python"
    }
  },
  "cells": [
    {
      "cell_type": "markdown",
      "metadata": {
        "id": "view-in-github",
        "colab_type": "text"
      },
      "source": [
        "<a href=\"https://colab.research.google.com/github/aysharega/Advanced-computing-Lab/blob/master/program_3_Na%C3%AFve_Bayes.ipynb\" target=\"_parent\"><img src=\"https://colab.research.google.com/assets/colab-badge.svg\" alt=\"Open In Colab\"/></a>"
      ]
    },
    {
      "cell_type": "code",
      "metadata": {
        "colab": {
          "base_uri": "https://localhost:8080/"
        },
        "id": "zdlae9gSMImI",
        "outputId": "128b7150-40c1-4fcd-9c73-a6bb39fb31bb"
      },
      "source": [
        "#1.Training\n",
        "#Load data\n",
        "import pandas as pd\n",
        "iris = pd.read_csv(\"/content/irisexcel.csv\")\n",
        "x=iris[['sepal_length','sepal_width','petal_length','petal_width']]\n",
        "y=iris['species']\n",
        "\n",
        "#ML Model\n",
        "from sklearn.naive_bayes import GaussianNB\n",
        "NBa = GaussianNB()\n",
        "from sklearn.naive_bayes import MultinomialNB\n",
        "NBb = MultinomialNB()\n",
        "from sklearn.naive_bayes import BernoulliNB\n",
        "NBc = BernoulliNB()\n",
        "\n",
        "\n",
        "#fit the data\n",
        "\n",
        "ML= NBa.fit(x,y)\n",
        "ML1= NBb.fit(x,y)\n",
        "ML2= NBc.fit(x,y)\n",
        "\n",
        "#Testing\n",
        "Result1=ML.predict([[3.5,3.5,3.5,3.5]])\n",
        "print (\"Output when classified using Gaussian is =\",Result1)\n",
        "Result2=ML1.predict([[3.5,3.5,3.5,3.5]])\n",
        "print (\"Output when classified using Multinomial is =\",Result2)\n",
        "Result3=ML2.predict([[3.5,3.5,3.5,3.5]])\n",
        "print (\"Output when classified using Bernoulli is =\",Result3)\n"
      ],
      "execution_count": null,
      "outputs": [
        {
          "output_type": "stream",
          "text": [
            "Output when classified using Gaussian is = ['virginica']\n",
            "Output when classified using Multinomial is = ['virginica']\n",
            "Output when classified using Bernoulli is = ['setosa']\n"
          ],
          "name": "stdout"
        }
      ]
    },
    {
      "cell_type": "markdown",
      "metadata": {
        "id": "oA1NkmAkOMI3"
      },
      "source": [
        "# Flight passengers"
      ]
    },
    {
      "cell_type": "code",
      "metadata": {
        "id": "PWW-hr1EWWfu",
        "colab": {
          "base_uri": "https://localhost:8080/"
        },
        "outputId": "e3d966f0-42ef-4a26-f127-4a1095002ec7"
      },
      "source": [
        "#1.Training\n",
        "#Load data\n",
        "import numpy as np\n",
        "import pandas as pd\n",
        "train = pd.read_csv(\"/content/train.csv\")\n",
        "test = pd.read_csv(\"/content/test.csv\")\n",
        "\n",
        "x_train =train[['Age','Flight Distance','Inflight wifi service','Ease of Online booking','Food and drink','Seat comfort', 'Leg room service', 'Cleanliness','Departure Delay in Minutes','Arrival Delay in Minutes']]\n",
        "y_train =train['satisfaction']\n",
        "\n",
        "x_test =test[['Age','Flight Distance','Inflight wifi service','Ease of Online booking','Food and drink','Seat comfort', 'Leg room service', 'Cleanliness','Departure Delay in Minutes','Arrival Delay in Minutes']]\n",
        "y_test =test['satisfaction']\n",
        "\n",
        "x_train= x_train.fillna(x_train.mean())\n",
        "x_test = x_test.fillna(x_test.mean())\n",
        "\n",
        "#ML Model\n",
        "from sklearn.naive_bayes import GaussianNB\n",
        "NBa = GaussianNB()\n",
        "from sklearn.naive_bayes import MultinomialNB\n",
        "NBb = MultinomialNB()\n",
        "from sklearn.naive_bayes import BernoulliNB\n",
        "NBc = BernoulliNB()\n",
        "\n",
        "#fit the data\n",
        "ML = NBa.fit (x_train,y_train)\n",
        "ML1= NBb.fit(x_train,y_train)\n",
        "ML2= NBc.fit(x_train,y_train)\n",
        "\n",
        "#Testing\n",
        "Result1=ML.predict(x_test)\n",
        "from sklearn.metrics import accuracy_score\n",
        "score=accuracy_score(Result1, y_test)\n",
        "print(\"Accuracy by classifying using Gaussian is=\",score*100)\n",
        "\n",
        "Result2=ML1.predict(x_test)\n",
        "score1=accuracy_score(Result2, y_test)\n",
        "print(\"Accuracy by classifying using Multinomial is=\",score1*100)\n",
        "\n",
        "Result3=ML2.predict(x_test)\n",
        "score2=accuracy_score(Result3, y_test)\n",
        "print(\"Accuracy by classifying using Bernoulli is=\",score2*100)"
      ],
      "execution_count": 2,
      "outputs": [
        {
          "output_type": "stream",
          "text": [
            "Accuracy by classifying using Gaussian is= 77.68324607329843\n",
            "Accuracy by classifying using Multinomial is= 57.795657530027725\n",
            "Accuracy by classifying using Bernoulli is= 57.918848167539274\n"
          ],
          "name": "stdout"
        }
      ]
    }
  ]
}